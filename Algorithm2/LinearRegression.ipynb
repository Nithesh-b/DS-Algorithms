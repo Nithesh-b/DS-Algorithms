{
  "nbformat": 4,
  "nbformat_minor": 0,
  "metadata": {
    "kernelspec": {
      "display_name": "Python 3",
      "language": "python",
      "name": "python3"
    },
    "language_info": {
      "codemirror_mode": {
        "name": "ipython",
        "version": 3
      },
      "file_extension": ".py",
      "mimetype": "text/x-python",
      "name": "python",
      "nbconvert_exporter": "python",
      "pygments_lexer": "ipython3",
      "version": "3.7.4"
    },
    "colab": {
      "name": "2019aiml049-2.ipynb",
      "provenance": [],
      "include_colab_link": true
    }
  },
  "cells": [
    {
      "cell_type": "markdown",
      "metadata": {
        "id": "view-in-github",
        "colab_type": "text"
      },
      "source": [
        "<a href=\"https://colab.research.google.com/github/Nithesh-b/DS-Algorithms/blob/master/Algorithm2/LinearRegression.ipynb\" target=\"_parent\"><img src=\"https://colab.research.google.com/assets/colab-badge.svg\" alt=\"Open In Colab\"/></a>"
      ]
    },
    {
      "cell_type": "markdown",
      "metadata": {
        "id": "zmKEbhU0duFa"
      },
      "source": [
        "#Drilling pressure"
      ]
    },
    {
      "cell_type": "code",
      "metadata": {
        "id": "17nM9FT6duFg"
      },
      "source": [
        "import numpy as np\n",
        "import pandas as pd\n",
        "from sklearn.linear_model import LinearRegression\n",
        "from sklearn.metrics import mean_squared_error as mse\n",
        "from mlxtend.plotting import plot_linear_regression\n",
        "import matplotlib.pyplot as plt\n",
        "import math"
      ],
      "execution_count": null,
      "outputs": []
    },
    {
      "cell_type": "code",
      "metadata": {
        "id": "uoZZNKMAduFg"
      },
      "source": [
        "drillpressure = pd.read_csv('DrillingPressure.csv')"
      ],
      "execution_count": null,
      "outputs": []
    },
    {
      "cell_type": "code",
      "metadata": {
        "id": "DayQ4uYQduFh"
      },
      "source": [
        "x=drillpressure[['Drilling depth[mm]']].values.reshape(-1,1)\n",
        "y=drillpressure[['Min Pressure [MPa]']].values.reshape(-1,1)"
      ],
      "execution_count": null,
      "outputs": []
    },
    {
      "cell_type": "code",
      "metadata": {
        "id": "45sEcB18duFh",
        "outputId": "16fadc6e-7b0f-47dd-fd81-298002f47547"
      },
      "source": [
        "model=LinearRegression()\n",
        "model.fit(x,y)\n",
        "coeff=model.coef_\n",
        "print ('Coefficient of equation is ' + str(coeff))\n",
        "intercept=model.intercept_\n",
        "print ('Intercept of the equation is ' + str(intercept))\n",
        "print ('Root Mean square error is ' , math.sqrt(mse(x,y)))"
      ],
      "execution_count": null,
      "outputs": [
        {
          "output_type": "stream",
          "text": [
            "Coefficient of equation is [[-2.01266667]]\n",
            "Intercept of the equation is [57.55722222]\n",
            "Root Mean square error is  51.11031761461346\n"
          ],
          "name": "stdout"
        }
      ]
    },
    {
      "cell_type": "code",
      "metadata": {
        "id": "iax6ij_3duFi"
      },
      "source": [
        "regline=pd.read_csv('RegressionLine.csv')\n",
        "x_lin=regline[['Drilling depth[mm]']].values.reshape(-1,1)\n",
        "y_lin=regline[['Min Pressure [MPa]']].values.reshape(-1,1)"
      ],
      "execution_count": null,
      "outputs": []
    },
    {
      "cell_type": "code",
      "metadata": {
        "id": "T0rOfptzduFj"
      },
      "source": [
        "y_linear=57.5-2.01*x"
      ],
      "execution_count": null,
      "outputs": []
    },
    {
      "cell_type": "code",
      "metadata": {
        "id": "gfyZJXc4duFj",
        "outputId": "8be6325c-6f3e-430d-a8ee-1802fddc187e"
      },
      "source": [
        "plt.scatter(x, y,  color='blue')\n",
        "plt.plot(x,y, color='red', linewidth=2)\n",
        "plt.scatter(x_lin, y_lin,  color='brown')\n",
        "plt.plot(x_lin,y_linear, color='green', linewidth=2)\n",
        "plt.plot(x_lin,y_lin, color='yellow', linewidth=2)\n",
        "plt.show()"
      ],
      "execution_count": null,
      "outputs": [
        {
          "output_type": "display_data",
          "data": {
            "image/png": "[encoded data removed]",
            "text/plain": [
              "<Figure size 432x288 with 1 Axes>"
            ]
          },
          "metadata": {
            "tags": [],
            "needs_background": "light"
          }
        }
      ]
    },
    {
      "cell_type": "markdown",
      "metadata": {
        "id": "Q9BmYTEDduFj"
      },
      "source": [
        "Predicting the values of y:"
      ]
    },
    {
      "cell_type": "code",
      "metadata": {
        "id": "Ukio1F66duFk",
        "outputId": "866b57e1-30be-4867-ec51-53c2f3674645"
      },
      "source": [
        "x_predict=np.array([3.8]).reshape(-1,1)\n",
        "y_predict=model.predict(x_predict)\n",
        "print(y_predict)"
      ],
      "execution_count": null,
      "outputs": [
        {
          "output_type": "stream",
          "text": [
            "[[49.90908889]]\n"
          ],
          "name": "stdout"
        }
      ]
    },
    {
      "cell_type": "code",
      "metadata": {
        "id": "CeKltQgtduFk",
        "outputId": "f0a07e1a-28bb-46e8-9442-0f89e8330463"
      },
      "source": [
        "graph('(6*x_testing**2)+(9*x_testing)', range(-3, 1))"
      ],
      "execution_count": null,
      "outputs": [
        {
          "output_type": "display_data",
          "data": {
            "image/png": "[encoded data removed]",
            "text/plain": [
              "<Figure size 432x288 with 1 Axes>"
            ]
          },
          "metadata": {
            "tags": [],
            "needs_background": "light"
          }
        }
      ]
    },
    {
      "cell_type": "code",
      "metadata": {
        "id": "iZ_OdDYsduFk"
      },
      "source": [
        "def graph(formula, x_range):  \n",
        "    x_testing = np.array(x_range)  \n",
        "    y_testing = eval(formula)\n",
        "    plt.plot(x_testing, y_testing)  \n",
        "    plt.show()"
      ],
      "execution_count": null,
      "outputs": []
    },
    {
      "cell_type": "markdown",
      "metadata": {
        "id": "ZhCvYExYduFk"
      },
      "source": [
        "Hence, we can conclude that the predicted value of y(Minimum Pressure) would be 49.9 for the given input of x(Drilling depth -3.8)"
      ]
    }
  ]
}