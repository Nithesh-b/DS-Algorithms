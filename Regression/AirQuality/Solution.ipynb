{
  "nbformat": 4,
  "nbformat_minor": 0,
  "metadata": {
    "kernelspec": {
      "display_name": "Python 3",
      "language": "python",
      "name": "python3"
    },
    "language_info": {
      "codemirror_mode": {
        "name": "ipython",
        "version": 3
      },
      "file_extension": ".py",
      "mimetype": "text/x-python",
      "name": "python",
      "nbconvert_exporter": "python",
      "pygments_lexer": "ipython3",
      "version": "3.7.4"
    },
    "colab": {
      "name": "2019aiml049-3.ipynb",
      "provenance": [],
      "include_colab_link": true
    }
  },
  "cells": [
    {
      "cell_type": "markdown",
      "metadata": {
        "id": "view-in-github",
        "colab_type": "text"
      },
      "source": [
        "<a href=\"https://colab.research.google.com/github/Nithesh-b/DS-Algorithms/blob/master/Regression/AirQuality/Solution.ipynb\" target=\"_parent\"><img src=\"https://colab.research.google.com/assets/colab-badge.svg\" alt=\"Open In Colab\"/></a>"
      ]
    },
    {
      "cell_type": "markdown",
      "metadata": {
        "id": "Y_4-w7yilCUp"
      },
      "source": [
        "# Answer 1.1"
      ]
    },
    {
      "cell_type": "code",
      "metadata": {
        "id": "rvh6xSQTlCUu"
      },
      "source": [
        "import pandas as pd\n",
        "import numpy as np\n",
        "from sklearn.linear_model import LinearRegression\n",
        "from sklearn import linear_model\n",
        "from sklearn.metrics import mean_squared_error as mse\n",
        "from sklearn.metrics import r2_score\n",
        "import matplotlib.pyplot as plt\n",
        "import math\n",
        "from sklearn.model_selection import train_test_split\n",
        "from sklearn import preprocessing\n",
        "import seaborn as sns; sns.set()"
      ],
      "execution_count": null,
      "outputs": []
    },
    {
      "cell_type": "code",
      "metadata": {
        "id": "Hy44pNI1lCUv"
      },
      "source": [
        "AirQuality_data = pd.read_excel('AirQuality.xlsx')"
      ],
      "execution_count": null,
      "outputs": []
    },
    {
      "cell_type": "code",
      "metadata": {
        "id": "oU8ObnshlCUv",
        "outputId": "b3369050-ce1d-4012-d856-e9f3b9271997"
      },
      "source": [
        "c=AirQuality_data[['CO(GT)']].values.reshape(-1,1)\n",
        "h=AirQuality_data[['NOx(GT)']].values.reshape(-1,1)\n",
        "mean_c = AirQuality_data['CO(GT)'].mean()\n",
        "mean_h = AirQuality_data['NOx(GT)'].mean()\n",
        "print(mean_c, mean_h)"
      ],
      "execution_count": null,
      "outputs": [
        {
          "output_type": "stream",
          "text": [
            "-34.20752377898902 168.6042000641236\n"
          ],
          "name": "stdout"
        }
      ]
    },
    {
      "cell_type": "code",
      "metadata": {
        "id": "RrWu3To7lCUx",
        "outputId": "8d623595-6c98-4f60-fa84-9a9c96f761f3"
      },
      "source": [
        "plt.scatter(h,c,  color='blue')\n",
        "#plt.plot(c,h, color='red', linewidth=2)"
      ],
      "execution_count": null,
      "outputs": [
        {
          "output_type": "execute_result",
          "data": {
            "text/plain": [
              "<matplotlib.collections.PathCollection at 0x66ee5a6688>"
            ]
          },
          "metadata": {
            "tags": []
          },
          "execution_count": 199
        },
        {
          "output_type": "display_data",
          "data": {
            "image/png": "[encoded data removed]",
            "text/plain": [
              "<Figure size 432x288 with 1 Axes>"
            ]
          },
          "metadata": {
            "tags": []
          }
        }
      ]
    },
    {
      "cell_type": "markdown",
      "metadata": {
        "id": "yauKOLnslCUx"
      },
      "source": [
        "Checking if there are any missing values"
      ]
    },
    {
      "cell_type": "code",
      "metadata": {
        "id": "ZckJVlKwlCUx",
        "outputId": "63b0a463-d4e3-49c3-b214-20d86c0633d2"
      },
      "source": [
        "AirQuality_data.isnull().sum()"
      ],
      "execution_count": null,
      "outputs": [
        {
          "output_type": "execute_result",
          "data": {
            "text/plain": [
              "Date             0\n",
              "Time             0\n",
              "CO(GT)           0\n",
              "PT08.S1(CO)      0\n",
              "NMHC(GT)         0\n",
              "C6H6(GT)         0\n",
              "PT08.S2(NMHC)    0\n",
              "NOx(GT)          0\n",
              "PT08.S3(NOx)     0\n",
              "NO2(GT)          0\n",
              "PT08.S4(NO2)     0\n",
              "PT08.S5(O3)      0\n",
              "T                0\n",
              "RH               0\n",
              "AH               0\n",
              "dtype: int64"
            ]
          },
          "metadata": {
            "tags": []
          },
          "execution_count": 200
        }
      ]
    },
    {
      "cell_type": "markdown",
      "metadata": {
        "id": "gNeVznqulCUy"
      },
      "source": [
        "Replacing the -200 values with Nan"
      ]
    },
    {
      "cell_type": "code",
      "metadata": {
        "id": "VKZ4wCxWlCUy"
      },
      "source": [
        "AirQuality_data['CO(GT)'].replace(-200, np.nan, inplace = True)\n",
        "AirQuality_data['NOx(GT)'].replace(-200, np.nan, inplace = True)"
      ],
      "execution_count": null,
      "outputs": []
    },
    {
      "cell_type": "code",
      "metadata": {
        "id": "HWTALPz7lCUy",
        "outputId": "46ca8368-074a-4648-b443-cce17df05f64"
      },
      "source": [
        "AirQuality_data.info()"
      ],
      "execution_count": null,
      "outputs": [
        {
          "output_type": "stream",
          "text": [
            "<class 'pandas.core.frame.DataFrame'>\n",
            "RangeIndex: 9357 entries, 0 to 9356\n",
            "Data columns (total 15 columns):\n",
            "Date             9357 non-null datetime64[ns]\n",
            "Time             9357 non-null object\n",
            "CO(GT)           7674 non-null float64\n",
            "PT08.S1(CO)      9357 non-null float64\n",
            "NMHC(GT)         9357 non-null int64\n",
            "C6H6(GT)         9357 non-null float64\n",
            "PT08.S2(NMHC)    9357 non-null float64\n",
            "NOx(GT)          7718 non-null float64\n",
            "PT08.S3(NOx)     9357 non-null float64\n",
            "NO2(GT)          9357 non-null float64\n",
            "PT08.S4(NO2)     9357 non-null float64\n",
            "PT08.S5(O3)      9357 non-null float64\n",
            "T                9357 non-null float64\n",
            "RH               9357 non-null float64\n",
            "AH               9357 non-null float64\n",
            "dtypes: datetime64[ns](1), float64(12), int64(1), object(1)\n",
            "memory usage: 1.1+ MB\n"
          ],
          "name": "stdout"
        }
      ]
    },
    {
      "cell_type": "code",
      "metadata": {
        "id": "HiXlNdVklCUz"
      },
      "source": [
        "mean_co = AirQuality_data['CO(GT)'].mean()\n",
        "mean_no = AirQuality_data['NOx(GT)'].mean()"
      ],
      "execution_count": null,
      "outputs": []
    },
    {
      "cell_type": "code",
      "metadata": {
        "id": "9IhPQgF9lCUz",
        "outputId": "25fa973a-5630-4a0c-b9a6-1e6ac21a1c84"
      },
      "source": [
        "print(mean_co,mean_no)"
      ],
      "execution_count": null,
      "outputs": [
        {
          "output_type": "stream",
          "text": [
            "2.1527495439145157 246.88125161959098\n"
          ],
          "name": "stdout"
        }
      ]
    },
    {
      "cell_type": "code",
      "metadata": {
        "id": "yxKfB1j7lCUz"
      },
      "source": [
        "AirQuality_data['CO(GT)'] = AirQuality_data['CO(GT)'].fillna(mean_co)\n",
        "AirQuality_data['NOx(GT)'] = AirQuality_data['NOx(GT)'].fillna(mean_no)"
      ],
      "execution_count": null,
      "outputs": []
    },
    {
      "cell_type": "code",
      "metadata": {
        "id": "o3KGRJSClCUz"
      },
      "source": [
        "mean_co_new = AirQuality_data['CO(GT)'].mean()\n",
        "mean_no_new = AirQuality_data['NOx(GT)'].mean()"
      ],
      "execution_count": null,
      "outputs": []
    },
    {
      "cell_type": "code",
      "metadata": {
        "id": "x4JrUz1QlCU0"
      },
      "source": [
        "X = AirQuality_data['NOx(GT)'].values.reshape(-1,1)\n",
        "y = AirQuality_data['CO(GT)'].values.reshape(-1,1)"
      ],
      "execution_count": null,
      "outputs": []
    },
    {
      "cell_type": "code",
      "metadata": {
        "id": "e72i4Xt1lCU0",
        "outputId": "0a581ef2-58cd-4a26-91f9-714bf4b619ec"
      },
      "source": [
        "plt.scatter(X,y)"
      ],
      "execution_count": null,
      "outputs": [
        {
          "output_type": "execute_result",
          "data": {
            "text/plain": [
              "<matplotlib.collections.PathCollection at 0x66d8623e88>"
            ]
          },
          "metadata": {
            "tags": []
          },
          "execution_count": 208
        },
        {
          "output_type": "display_data",
          "data": {
            "image/png": "[encoded data removed]",
            "text/plain": [
              "<Figure size 432x288 with 1 Axes>"
            ]
          },
          "metadata": {
            "tags": []
          }
        }
      ]
    },
    {
      "cell_type": "code",
      "metadata": {
        "id": "n5nu2drnlCU0"
      },
      "source": [
        "X_train, X_test, y_train, y_test = train_test_split(X,y,test_size=0.3,random_state=100)"
      ],
      "execution_count": null,
      "outputs": []
    },
    {
      "cell_type": "code",
      "metadata": {
        "id": "2tEIxGDClCU0",
        "outputId": "c3c0e715-ff5b-467c-ecb8-3b311e475b77"
      },
      "source": [
        "model=LinearRegression()\n",
        "model.fit(X_train,y_train)\n",
        "y_predict=model.predict(X_test)\n",
        "coeff=model.coef_\n",
        "print ('Coefficient of equation is ' + str(coeff))\n",
        "intercept=model.intercept_\n",
        "print ('Intercept of the equation is ' + str(intercept))\n",
        "print ('Root Mean square error is ' , math.sqrt(mse(y_test, y_predict)))"
      ],
      "execution_count": null,
      "outputs": [
        {
          "output_type": "stream",
          "text": [
            "Coefficient of equation is [[0.00515929]]\n",
            "Intercept of the equation is [0.87447871]\n",
            "Root Mean square error is  0.8606684927838965\n"
          ],
          "name": "stdout"
        }
      ]
    },
    {
      "cell_type": "code",
      "metadata": {
        "id": "8IhtmKZ_lCU1",
        "outputId": "f7de528c-9cc3-4baa-91f5-8d61375593f4"
      },
      "source": [
        "print (\"R^2 error is \" + str(r2_score(y_test, y_predict)))"
      ],
      "execution_count": null,
      "outputs": [
        {
          "output_type": "stream",
          "text": [
            "R^2 error is 0.5865688307687522\n"
          ],
          "name": "stdout"
        }
      ]
    },
    {
      "cell_type": "markdown",
      "metadata": {
        "id": "vGSs1U_2lCU1"
      },
      "source": [
        "# Answer 1.2"
      ]
    },
    {
      "cell_type": "markdown",
      "metadata": {
        "id": "N1qM2wxqlCU1"
      },
      "source": [
        "Implementing the solution using numpy"
      ]
    },
    {
      "cell_type": "markdown",
      "metadata": {
        "id": "Bp88uw1hlCU1"
      },
      "source": [
        "Calculating the mean of x and y"
      ]
    },
    {
      "cell_type": "code",
      "metadata": {
        "id": "C8J3396BlCU1"
      },
      "source": [
        "n = np.size(X) \n",
        "m_x, m_y = np.mean(X), np.mean(y)"
      ],
      "execution_count": null,
      "outputs": []
    },
    {
      "cell_type": "code",
      "metadata": {
        "id": "BUuR92QilCU2",
        "outputId": "383d5864-0461-473e-e5c0-a1a1b929ec5f"
      },
      "source": [
        "SS_xy = np.sum(y*X) - n*m_y*m_x \n",
        "SS_xx = np.sum(X*X) - n*m_x*m_x   \n",
        "b_1 = SS_xy / SS_xx \n",
        "b_0 = m_y - b_1*m_x;\n",
        "print(\"Coefficient of the equation is \" + str(b_1))\n",
        "print(\"Intercept of the equation is \" + str(b_0))"
      ],
      "execution_count": null,
      "outputs": [
        {
          "output_type": "stream",
          "text": [
            "Coefficient of the equation is 0.005186838018710344\n",
            "Intercept of the equation is 0.8722164819072291\n"
          ],
          "name": "stdout"
        }
      ]
    },
    {
      "cell_type": "markdown",
      "metadata": {
        "id": "sv82559wlCU2"
      },
      "source": [
        "The values obtained from numpy is almost equal to the values from scikit learn. The same can be achieved with pandas."
      ]
    },
    {
      "cell_type": "markdown",
      "metadata": {
        "id": "tind3BDOlCU2"
      },
      "source": [
        "We should be able to implement it using any of the libraries pandas, numpy or scikit-learn but scikit learn is preffered as it has built-in function of linear regression whcih we can make use of it and the result would be same as that if we create a linear regression function using the modules of pandas and numpy. Also, the time taken is less with the scikit learn module."
      ]
    },
    {
      "cell_type": "markdown",
      "metadata": {
        "id": "FAAnbcBIlCU2"
      },
      "source": [
        "For Question 1, we have analyzed the data, verified that it does not have any missing values, replaced the incorrect(-200) values with the mean of the feature and then we were able to find the linear relationship between CO and NOx."
      ]
    },
    {
      "cell_type": "markdown",
      "metadata": {
        "id": "nqaKv3hBlCU2"
      },
      "source": [
        "# Answer 2.1.a - Gradient Descent Algorithm"
      ]
    },
    {
      "cell_type": "markdown",
      "metadata": {
        "id": "02QzBLLwlCU3"
      },
      "source": [
        "Removing the values of NMHC as it has more outliers(-200). Also, removing C6H6(GT), PT08.S5(O3), PT08.s4(NO2) as these values does not affect the CO value."
      ]
    },
    {
      "cell_type": "code",
      "metadata": {
        "id": "9IxIlK2_lCU3",
        "outputId": "c96b5117-3254-4fc7-e064-6f892036b70d"
      },
      "source": [
        "AirQuality = pd.read_excel('AirQuality.xlsx')\n",
        "AirQuality_filter = AirQuality\n",
        "AirQuality_filter = AirQuality_filter.drop('Date', axis=1)\n",
        "AirQuality_filter = AirQuality_filter.drop('Time', axis=1)\n",
        "AirQuality_filter = AirQuality_filter.drop('NMHC(GT)', axis=1)\n",
        "AirQuality_filter = AirQuality_filter.drop('C6H6(GT)', axis=1)\n",
        "AirQuality_filter = AirQuality_filter.drop('PT08.S5(O3)', axis=1)\n",
        "AirQuality_filter = AirQuality_filter.drop('PT08.S4(NO2)', axis=1)\n",
        "print(AirQuality_filter)"
      ],
      "execution_count": null,
      "outputs": [
        {
          "output_type": "stream",
          "text": [
            "      CO(GT)  PT08.S1(CO)  PT08.S2(NMHC)  NOx(GT)  PT08.S3(NOx)  NO2(GT)  \\\n",
            "0        2.6      1360.00        1045.50    166.0       1056.25    113.0   \n",
            "1        2.0      1292.25         954.75    103.0       1173.75     92.0   \n",
            "2        2.2      1402.00         939.25    131.0       1140.00    114.0   \n",
            "3        2.2      1375.50         948.25    172.0       1092.00    122.0   \n",
            "4        1.6      1272.25         835.50    131.0       1205.00    116.0   \n",
            "...      ...          ...            ...      ...           ...      ...   \n",
            "9352     3.1      1314.25        1101.25    471.7        538.50    189.8   \n",
            "9353     2.4      1162.50        1027.00    353.3        603.75    179.2   \n",
            "9354     2.4      1142.00        1062.50    293.0        603.25    174.7   \n",
            "9355     2.1      1002.50         960.50    234.5        701.50    155.7   \n",
            "9356     2.2      1070.75        1047.25    265.2        654.00    167.7   \n",
            "\n",
            "           T         RH        AH  \n",
            "0     13.600  48.875001  0.757754  \n",
            "1     13.300  47.700000  0.725487  \n",
            "2     11.900  53.975000  0.750239  \n",
            "3     11.000  60.000000  0.786713  \n",
            "4     11.150  59.575001  0.788794  \n",
            "...      ...        ...       ...  \n",
            "9352  21.850  29.250000  0.756824  \n",
            "9353  24.325  23.725000  0.711864  \n",
            "9354  26.900  18.350000  0.640649  \n",
            "9355  28.325  13.550000  0.513866  \n",
            "9356  28.500  13.125000  0.502804  \n",
            "\n",
            "[9357 rows x 9 columns]\n"
          ],
          "name": "stdout"
        }
      ]
    },
    {
      "cell_type": "code",
      "metadata": {
        "id": "kGmVStAJlCU3",
        "outputId": "5c9a54ee-f906-4391-ed20-a725a2d47aa1"
      },
      "source": [
        "AirQuality_filter.replace(-200,np.nan,inplace=True)\n",
        "print(AirQuality_filter.tail())\n",
        "AirQuality_filter = AirQuality_filter.fillna(AirQuality_filter.mean())\n",
        "print(AirQuality_filter.tail())\n",
        "Final_df = preprocessing.normalize(AirQuality_filter)"
      ],
      "execution_count": null,
      "outputs": [
        {
          "output_type": "stream",
          "text": [
            "      CO(GT)  PT08.S1(CO)  PT08.S2(NMHC)  NOx(GT)  PT08.S3(NOx)  NO2(GT)  \\\n",
            "9352     3.1      1314.25        1101.25    471.7        538.50    189.8   \n",
            "9353     2.4      1162.50        1027.00    353.3        603.75    179.2   \n",
            "9354     2.4      1142.00        1062.50    293.0        603.25    174.7   \n",
            "9355     2.1      1002.50         960.50    234.5        701.50    155.7   \n",
            "9356     2.2      1070.75        1047.25    265.2        654.00    167.7   \n",
            "\n",
            "           T      RH        AH  \n",
            "9352  21.850  29.250  0.756824  \n",
            "9353  24.325  23.725  0.711864  \n",
            "9354  26.900  18.350  0.640649  \n",
            "9355  28.325  13.550  0.513866  \n",
            "9356  28.500  13.125  0.502804  \n",
            "      CO(GT)  PT08.S1(CO)  PT08.S2(NMHC)  NOx(GT)  PT08.S3(NOx)  NO2(GT)  \\\n",
            "9352     3.1      1314.25        1101.25    471.7        538.50    189.8   \n",
            "9353     2.4      1162.50        1027.00    353.3        603.75    179.2   \n",
            "9354     2.4      1142.00        1062.50    293.0        603.25    174.7   \n",
            "9355     2.1      1002.50         960.50    234.5        701.50    155.7   \n",
            "9356     2.2      1070.75        1047.25    265.2        654.00    167.7   \n",
            "\n",
            "           T      RH        AH  \n",
            "9352  21.850  29.250  0.756824  \n",
            "9353  24.325  23.725  0.711864  \n",
            "9354  26.900  18.350  0.640649  \n",
            "9355  28.325  13.550  0.513866  \n",
            "9356  28.500  13.125  0.502804  \n"
          ],
          "name": "stdout"
        }
      ]
    },
    {
      "cell_type": "code",
      "metadata": {
        "id": "yz7VR9xHlCU3",
        "outputId": "e0cbd2ab-024c-44da-fdc0-f1bbacaa502e"
      },
      "source": [
        "x=Final_df[:,1:]\n",
        "y=Final_df[:,[0]]\n",
        "print(x.shape, y.shape)\n",
        "print(x,y)"
      ],
      "execution_count": null,
      "outputs": [
        {
          "output_type": "stream",
          "text": [
            "(9357, 8) (9357, 1)\n",
            "[[6.71554551e-01 5.16257561e-01 8.19691584e-02 ... 6.71554546e-03\n",
            "  2.41339921e-02 3.74171345e-04]\n",
            " [6.47691361e-01 4.78532270e-01 5.16248482e-02 ... 6.66612116e-03\n",
            "  2.39078180e-02 3.63623102e-04]\n",
            " [6.85690431e-01 4.59368571e-01 6.40695053e-02 ... 5.82005434e-03\n",
            "  2.63981036e-02 3.66927068e-04]\n",
            " ...\n",
            " [6.68944831e-01 6.22376430e-01 1.71629453e-01 ... 1.57571066e-02\n",
            "  1.07488069e-02 3.75270303e-04]\n",
            " [6.34050357e-01 6.07486652e-01 1.48314024e-01 ... 1.79146895e-02\n",
            "  8.56995742e-03 3.25004357e-04]\n",
            " [6.43305102e-01 6.29186335e-01 1.59331789e-01 ... 1.71227604e-02\n",
            "  7.88548163e-03 3.02083763e-04]] [[0.00128385]\n",
            " [0.00100242]\n",
            " [0.00107598]\n",
            " ...\n",
            " [0.00140584]\n",
            " [0.00132819]\n",
            " [0.00132176]]\n"
          ],
          "name": "stdout"
        }
      ]
    },
    {
      "cell_type": "code",
      "metadata": {
        "id": "ULisDbwJlCU3"
      },
      "source": [
        "learning_rate = 0.000001\n",
        "iteration = 1000\n",
        "w0 = np.ones([8,1])\n",
        "m = 1\n",
        "y_pred = []\n",
        "cost = []\n",
        "theta = []\n",
        "error = 0"
      ],
      "execution_count": null,
      "outputs": []
    },
    {
      "cell_type": "code",
      "metadata": {
        "id": "kUxfItuDlCU4"
      },
      "source": [
        "def GD(x,y,w0,learning_rate,m,num_itr):\n",
        "    for i in range(0,num_itr):\n",
        "        y_pred_value = np.dot(x, w0)\n",
        "        y_pred.append(y_pred_value)\n",
        "        error = y_pred_value - y\n",
        "        cost_value = (1/2*m)*np.dot(error.T, error)\n",
        "        cost.append(cost_value)\n",
        "        w0 = w0 - (learning_rate * (1/m) * np.dot(x.T, error)) \n",
        "        theta.append(w0)\n",
        "    return cost, theta\n",
        "cost,theta = GD(x,y,w0,learning_rate,m,iteration);\n"
      ],
      "execution_count": null,
      "outputs": []
    },
    {
      "cell_type": "code",
      "metadata": {
        "id": "ejJ4pkDylCU4",
        "outputId": "e7c69a0c-a63d-4180-fec6-e2d8f6fd66e7"
      },
      "source": [
        "#print (len(theta),len(cost))\n",
        "#print (theta)\n",
        "#print ('------------------------------------------------------------------------')\n",
        "#print (cost)\n",
        "cost_list = np.vstack(cost)\n",
        "print(cost_list[-1])"
      ],
      "execution_count": null,
      "outputs": [
        {
          "output_type": "stream",
          "text": [
            "[19.79740118]\n"
          ],
          "name": "stdout"
        }
      ]
    },
    {
      "cell_type": "markdown",
      "metadata": {
        "id": "19bttFe6lCU4"
      },
      "source": [
        "We can incur from the graph below that the cost function tends to reduce after 20 iterations"
      ]
    },
    {
      "cell_type": "code",
      "metadata": {
        "id": "2Zvn_fqIlCU4",
        "outputId": "cbdd93a5-c456-4e1f-d2b6-2cc77c3b0cfd"
      },
      "source": [
        "plt.plot(cost_list)"
      ],
      "execution_count": null,
      "outputs": [
        {
          "output_type": "execute_result",
          "data": {
            "text/plain": [
              "[<matplotlib.lines.Line2D at 0x66d8a33e08>]"
            ]
          },
          "metadata": {
            "tags": []
          },
          "execution_count": 220
        },
        {
          "output_type": "display_data",
          "data": {
            "image/png": "[encoded data removed]",
            "text/plain": [
              "<Figure size 432x288 with 1 Axes>"
            ]
          },
          "metadata": {
            "tags": []
          }
        }
      ]
    },
    {
      "cell_type": "markdown",
      "metadata": {
        "id": "AC5W1_PslCU4"
      },
      "source": [
        "Let us define a cost function which will be used for Stochastic Gradient Descent and Mini-batch Gradient Descent algorithms"
      ]
    },
    {
      "cell_type": "markdown",
      "metadata": {
        "id": "NpCsFs6VlCU5"
      },
      "source": [
        "# Answer 2.1.b - Stochastic Gradient Descent Algorithm"
      ]
    },
    {
      "cell_type": "code",
      "metadata": {
        "id": "SmRz8nuqlCU5"
      },
      "source": [
        "def SGD(X,y,theta,learning_rate,iterations):\n",
        "    for it in range(iterations):\n",
        "        for i in range(m):\n",
        "            rand_ind = np.random.randint(0,m)\n",
        "            X_i = X[rand_ind,:].reshape(1,X.shape[1])\n",
        "            y_i = y[rand_ind].reshape(1,1)\n",
        "            prediction = np.dot(X_i,theta)\n",
        "            y_pred.append(prediction)\n",
        "            error = prediction - y_i\n",
        "            theta = theta - (learning_rate * (1/m) * np.dot(X_i.T, error))\n",
        "            cost_value = 1/(2*m)* np.dot(error.T, error)\n",
        "            cost.append(cost_value)\n",
        "    return theta, cost"
      ],
      "execution_count": null,
      "outputs": []
    },
    {
      "cell_type": "code",
      "metadata": {
        "id": "iOQVNR1YlCU5",
        "outputId": "7de3f625-ccc4-4491-85fa-66aceedd95db"
      },
      "source": [
        "theta_sgd,cost_sgd = SGD(x,y,w0,learning_rate,iteration)\n",
        "print (len(theta_sgd))"
      ],
      "execution_count": null,
      "outputs": [
        {
          "output_type": "stream",
          "text": [
            "8\n"
          ],
          "name": "stdout"
        }
      ]
    },
    {
      "cell_type": "code",
      "metadata": {
        "id": "rT71DCbflCU6",
        "outputId": "dd723790-10b0-49d6-b4b6-4eaacc0f9704"
      },
      "source": [
        "cost_list_sgd = np.vstack(cost_sgd)\n",
        "plt.plot(cost_list_sgd)\n",
        "#print (theta_sgd)\n",
        "print(cost_list_sgd[-1])"
      ],
      "execution_count": null,
      "outputs": [
        {
          "output_type": "stream",
          "text": [
            "[1.75820804]\n"
          ],
          "name": "stdout"
        },
        {
          "output_type": "display_data",
          "data": {
            "image/png": "[encoded data removed]",
            "text/plain": [
              "<Figure size 432x288 with 1 Axes>"
            ]
          },
          "metadata": {
            "tags": []
          }
        }
      ]
    },
    {
      "cell_type": "markdown",
      "metadata": {
        "id": "EQklZk0elCU6"
      },
      "source": [
        "# Answer 2.1.c - Mini-Batch Gradient Descent Algorithm"
      ]
    },
    {
      "cell_type": "code",
      "metadata": {
        "id": "7QzXznd5lCU6"
      },
      "source": [
        "def minibatch_gradient_descent(X,y,theta,learning_rate,iterations,batch_size =100):\n",
        "    m = len(y)\n",
        "    n_batches = int(m/batch_size)\n",
        "    for it in range(iterations):\n",
        "        indices = np.random.permutation(m)\n",
        "        X = X[indices]\n",
        "        y = y[indices]\n",
        "        for i in range(0,m,batch_size):\n",
        "            X_i = X[i:i+batch_size]\n",
        "            y_i = y[i:i+batch_size]\n",
        "            prediction = np.dot(X_i,theta)\n",
        "            y_pred.append(prediction)\n",
        "            error = prediction - y_i\n",
        "            cost_value = 1/(2*m)* np.dot(error.T, error)\n",
        "            theta = theta -(1/m)*learning_rate*( X_i.T.dot((prediction - y_i)))\n",
        "        cost.append(cost_value)        \n",
        "    return theta, cost"
      ],
      "execution_count": null,
      "outputs": []
    },
    {
      "cell_type": "code",
      "metadata": {
        "id": "6McCVOfRlCU6",
        "outputId": "93de78ee-f1d4-45eb-cac2-10e39bb2fd98"
      },
      "source": [
        "theta_mgd,cost_mgd = minibatch_gradient_descent(x,y,w0,learning_rate,iteration)\n",
        "cost_mgd_list = np.vstack(cost_mgd)\n",
        "print(cost_mgd_list[-1])\n",
        "plt.plot(cost_mgd_list)"
      ],
      "execution_count": null,
      "outputs": [
        {
          "output_type": "stream",
          "text": [
            "[0.01132099]\n"
          ],
          "name": "stdout"
        },
        {
          "output_type": "execute_result",
          "data": {
            "text/plain": [
              "[<matplotlib.lines.Line2D at 0x66d82e39c8>]"
            ]
          },
          "metadata": {
            "tags": []
          },
          "execution_count": 225
        },
        {
          "output_type": "display_data",
          "data": {
            "image/png": "[encoded data removed]",
            "text/plain": [
              "<Figure size 432x288 with 1 Axes>"
            ]
          },
          "metadata": {
            "tags": []
          }
        }
      ]
    },
    {
      "cell_type": "markdown",
      "metadata": {
        "id": "BrUdGqAtlCU7"
      },
      "source": [
        "# Answer 2.2"
      ]
    },
    {
      "cell_type": "markdown",
      "metadata": {
        "id": "Z4YxZ0dBlCU7"
      },
      "source": [
        "We can find the corelation between CO and other chemicals and infur that it is linearly related to PT08.S2(NMHC), PT08.S1(CO)  and NOx(GT) and inversely related to PT08.S3(NOx)."
      ]
    },
    {
      "cell_type": "code",
      "metadata": {
        "id": "77HAM7yZlCU7",
        "outputId": "f5acc4aa-2af9-478d-fe6c-58e73533a59c"
      },
      "source": [
        "AirQuality_filter.corr()"
      ],
      "execution_count": null,
      "outputs": [
        {
          "output_type": "execute_result",
          "data": {
            "text/html": [
              "<div>\n",
              "<style scoped>\n",
              "    .dataframe tbody tr th:only-of-type {\n",
              "        vertical-align: middle;\n",
              "    }\n",
              "\n",
              "    .dataframe tbody tr th {\n",
              "        vertical-align: top;\n",
              "    }\n",
              "\n",
              "    .dataframe thead th {\n",
              "        text-align: right;\n",
              "    }\n",
              "</style>\n",
              "<table border=\"1\" class=\"dataframe\">\n",
              "  <thead>\n",
              "    <tr style=\"text-align: right;\">\n",
              "      <th></th>\n",
              "      <th>CO(GT)</th>\n",
              "      <th>PT08.S1(CO)</th>\n",
              "      <th>PT08.S2(NMHC)</th>\n",
              "      <th>NOx(GT)</th>\n",
              "      <th>PT08.S3(NOx)</th>\n",
              "      <th>NO2(GT)</th>\n",
              "      <th>T</th>\n",
              "      <th>RH</th>\n",
              "      <th>AH</th>\n",
              "    </tr>\n",
              "  </thead>\n",
              "  <tbody>\n",
              "    <tr>\n",
              "      <td>CO(GT)</td>\n",
              "      <td>1.000000</td>\n",
              "      <td>0.773394</td>\n",
              "      <td>0.795586</td>\n",
              "      <td>0.762297</td>\n",
              "      <td>-0.613870</td>\n",
              "      <td>0.646528</td>\n",
              "      <td>0.020260</td>\n",
              "      <td>0.043204</td>\n",
              "      <td>0.043273</td>\n",
              "    </tr>\n",
              "    <tr>\n",
              "      <td>PT08.S1(CO)</td>\n",
              "      <td>0.773394</td>\n",
              "      <td>1.000000</td>\n",
              "      <td>0.892972</td>\n",
              "      <td>0.615974</td>\n",
              "      <td>-0.771918</td>\n",
              "      <td>0.562997</td>\n",
              "      <td>0.048628</td>\n",
              "      <td>0.114607</td>\n",
              "      <td>0.135323</td>\n",
              "    </tr>\n",
              "    <tr>\n",
              "      <td>PT08.S2(NMHC)</td>\n",
              "      <td>0.795586</td>\n",
              "      <td>0.892972</td>\n",
              "      <td>1.000000</td>\n",
              "      <td>0.601812</td>\n",
              "      <td>-0.796687</td>\n",
              "      <td>0.561421</td>\n",
              "      <td>0.241330</td>\n",
              "      <td>-0.090352</td>\n",
              "      <td>0.186906</td>\n",
              "    </tr>\n",
              "    <tr>\n",
              "      <td>NOx(GT)</td>\n",
              "      <td>0.762297</td>\n",
              "      <td>0.615974</td>\n",
              "      <td>0.601812</td>\n",
              "      <td>1.000000</td>\n",
              "      <td>-0.563259</td>\n",
              "      <td>0.763133</td>\n",
              "      <td>-0.235657</td>\n",
              "      <td>0.192578</td>\n",
              "      <td>-0.126831</td>\n",
              "    </tr>\n",
              "    <tr>\n",
              "      <td>PT08.S3(NOx)</td>\n",
              "      <td>-0.613870</td>\n",
              "      <td>-0.771918</td>\n",
              "      <td>-0.796687</td>\n",
              "      <td>-0.563259</td>\n",
              "      <td>1.000000</td>\n",
              "      <td>-0.569535</td>\n",
              "      <td>-0.145133</td>\n",
              "      <td>-0.056730</td>\n",
              "      <td>-0.232021</td>\n",
              "    </tr>\n",
              "    <tr>\n",
              "      <td>NO2(GT)</td>\n",
              "      <td>0.646528</td>\n",
              "      <td>0.562997</td>\n",
              "      <td>0.561421</td>\n",
              "      <td>0.763133</td>\n",
              "      <td>-0.569535</td>\n",
              "      <td>1.000000</td>\n",
              "      <td>-0.165317</td>\n",
              "      <td>-0.080645</td>\n",
              "      <td>-0.291200</td>\n",
              "    </tr>\n",
              "    <tr>\n",
              "      <td>T</td>\n",
              "      <td>0.020260</td>\n",
              "      <td>0.048628</td>\n",
              "      <td>0.241330</td>\n",
              "      <td>-0.235657</td>\n",
              "      <td>-0.145133</td>\n",
              "      <td>-0.165317</td>\n",
              "      <td>1.000000</td>\n",
              "      <td>-0.578569</td>\n",
              "      <td>0.656471</td>\n",
              "    </tr>\n",
              "    <tr>\n",
              "      <td>RH</td>\n",
              "      <td>0.043204</td>\n",
              "      <td>0.114607</td>\n",
              "      <td>-0.090352</td>\n",
              "      <td>0.192578</td>\n",
              "      <td>-0.056730</td>\n",
              "      <td>-0.080645</td>\n",
              "      <td>-0.578569</td>\n",
              "      <td>1.000000</td>\n",
              "      <td>0.167971</td>\n",
              "    </tr>\n",
              "    <tr>\n",
              "      <td>AH</td>\n",
              "      <td>0.043273</td>\n",
              "      <td>0.135323</td>\n",
              "      <td>0.186906</td>\n",
              "      <td>-0.126831</td>\n",
              "      <td>-0.232021</td>\n",
              "      <td>-0.291200</td>\n",
              "      <td>0.656471</td>\n",
              "      <td>0.167971</td>\n",
              "      <td>1.000000</td>\n",
              "    </tr>\n",
              "  </tbody>\n",
              "</table>\n",
              "</div>"
            ],
            "text/plain": [
              "                 CO(GT)  PT08.S1(CO)  PT08.S2(NMHC)   NOx(GT)  PT08.S3(NOx)  \\\n",
              "CO(GT)         1.000000     0.773394       0.795586  0.762297     -0.613870   \n",
              "PT08.S1(CO)    0.773394     1.000000       0.892972  0.615974     -0.771918   \n",
              "PT08.S2(NMHC)  0.795586     0.892972       1.000000  0.601812     -0.796687   \n",
              "NOx(GT)        0.762297     0.615974       0.601812  1.000000     -0.563259   \n",
              "PT08.S3(NOx)  -0.613870    -0.771918      -0.796687 -0.563259      1.000000   \n",
              "NO2(GT)        0.646528     0.562997       0.561421  0.763133     -0.569535   \n",
              "T              0.020260     0.048628       0.241330 -0.235657     -0.145133   \n",
              "RH             0.043204     0.114607      -0.090352  0.192578     -0.056730   \n",
              "AH             0.043273     0.135323       0.186906 -0.126831     -0.232021   \n",
              "\n",
              "                NO2(GT)         T        RH        AH  \n",
              "CO(GT)         0.646528  0.020260  0.043204  0.043273  \n",
              "PT08.S1(CO)    0.562997  0.048628  0.114607  0.135323  \n",
              "PT08.S2(NMHC)  0.561421  0.241330 -0.090352  0.186906  \n",
              "NOx(GT)        0.763133 -0.235657  0.192578 -0.126831  \n",
              "PT08.S3(NOx)  -0.569535 -0.145133 -0.056730 -0.232021  \n",
              "NO2(GT)        1.000000 -0.165317 -0.080645 -0.291200  \n",
              "T             -0.165317  1.000000 -0.578569  0.656471  \n",
              "RH            -0.080645 -0.578569  1.000000  0.167971  \n",
              "AH            -0.291200  0.656471  0.167971  1.000000  "
            ]
          },
          "metadata": {
            "tags": []
          },
          "execution_count": 226
        }
      ]
    },
    {
      "cell_type": "markdown",
      "metadata": {
        "id": "ElPDoaEelCU7"
      },
      "source": [
        "This can be proven visually using the graph below."
      ]
    },
    {
      "cell_type": "code",
      "metadata": {
        "id": "iY6p-2HPlCU7",
        "outputId": "679aca5e-e9ec-4715-a1dc-7d6d64ce1a9c"
      },
      "source": [
        "ax = sns.heatmap(AirQuality_filter)"
      ],
      "execution_count": null,
      "outputs": [
        {
          "output_type": "display_data",
          "data": {
            "image/png": "[encoded data removed]",
            "text/plain": [
              "<Figure size 432x288 with 2 Axes>"
            ]
          },
          "metadata": {
            "tags": []
          }
        }
      ]
    },
    {
      "cell_type": "markdown",
      "metadata": {
        "id": "yNtnhDhflCU7"
      },
      "source": [
        "# Answer 2.3"
      ]
    },
    {
      "cell_type": "markdown",
      "metadata": {
        "id": "c5_bqU48lCU8"
      },
      "source": [
        "Mini_Batch gradient descent is implemented with 100 batches from our dataset of 9357 rows. The learning rate is 0.000001 with 1000 iterations for all the algorithms."
      ]
    },
    {
      "cell_type": "markdown",
      "metadata": {
        "id": "qwsgFWXilCU8"
      },
      "source": [
        "Using Mini-Batch Gradient Descent seems like good fit for this dataset as it tends to converge to least error with less number of iterations. This is achieved by removing the outliers and finding the correlation between the chemicals and identifying the factor which contribute to low CO."
      ]
    },
    {
      "cell_type": "markdown",
      "metadata": {
        "id": "mIrHZ8gTlCU8"
      },
      "source": [
        "We can conclude from the last cost function values of Gradient Descent(19.79740118), Stochastic Gradient Descent(1.75820804) and Mini-Batch Gradient Descent(0.01101319) that the MiniBatch Gradient descent gives the least error. "
      ]
    },
    {
      "cell_type": "markdown",
      "metadata": {
        "id": "17vHp3-ElCU8"
      },
      "source": [
        "The AirQuality to be better in the months of January, March and May during the early hours of the day by observing analytically."
      ]
    }
  ]
}