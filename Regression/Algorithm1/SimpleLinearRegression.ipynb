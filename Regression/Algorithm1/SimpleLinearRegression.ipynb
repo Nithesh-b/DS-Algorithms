{
  "nbformat": 4,
  "nbformat_minor": 0,
  "metadata": {
    "kernelspec": {
      "display_name": "Python 3",
      "language": "python",
      "name": "python3"
    },
    "language_info": {
      "codemirror_mode": {
        "name": "ipython",
        "version": 3
      },
      "file_extension": ".py",
      "mimetype": "text/x-python",
      "name": "python",
      "nbconvert_exporter": "python",
      "pygments_lexer": "ipython3",
      "version": "3.7.4"
    },
    "colab": {
      "name": "Solution.ipynb",
      "provenance": [],
      "include_colab_link": true
    }
  },
  "cells": [
    {
      "cell_type": "markdown",
      "metadata": {
        "id": "view-in-github",
        "colab_type": "text"
      },
      "source": [
        "<a href=\"https://colab.research.google.com/github/Nithesh-b/DS-Algorithms/blob/master/Regression/Algorithm1/SimpleLinearRegression.ipynb\" target=\"_parent\"><img src=\"https://colab.research.google.com/assets/colab-badge.svg\" alt=\"Open In Colab\"/></a>"
      ]
    },
    {
      "cell_type": "markdown",
      "metadata": {
        "id": "_oz_oNkHazuL"
      },
      "source": [
        "# Exploring numpy:"
      ]
    },
    {
      "cell_type": "code",
      "metadata": {
        "id": "R5N-l9mTazuR"
      },
      "source": [
        "import numpy as np"
      ],
      "execution_count": 1,
      "outputs": []
    },
    {
      "cell_type": "code",
      "metadata": {
        "id": "SIBTpK41azuS"
      },
      "source": [
        "A=np.array([[6,2,-5],[3,3,-2],[7,5,-3]])"
      ],
      "execution_count": 2,
      "outputs": []
    },
    {
      "cell_type": "code",
      "metadata": {
        "id": "VBkPfXVlazuS"
      },
      "source": [
        "B=np.array([13,13,26])"
      ],
      "execution_count": 3,
      "outputs": []
    },
    {
      "cell_type": "code",
      "metadata": {
        "colab": {
          "base_uri": "https://localhost:8080/"
        },
        "id": "yqjtEsuCazuT",
        "outputId": "cc3a7cd9-f735-40c2-febe-82711092c191"
      },
      "source": [
        "C=np.linalg.inv(A)\n",
        "\n",
        "print(C)"
      ],
      "execution_count": 4,
      "outputs": [
        {
          "output_type": "stream",
          "text": [
            "[[ 0.03846154 -0.73076923  0.42307692]\n",
            " [-0.19230769  0.65384615 -0.11538462]\n",
            " [-0.23076923 -0.61538462  0.46153846]]\n"
          ],
          "name": "stdout"
        }
      ]
    },
    {
      "cell_type": "code",
      "metadata": {
        "id": "do-7L53VazuU"
      },
      "source": [
        "D=np.dot(C,B)"
      ],
      "execution_count": 5,
      "outputs": []
    },
    {
      "cell_type": "code",
      "metadata": {
        "colab": {
          "base_uri": "https://localhost:8080/"
        },
        "id": "FWbqEuQGazuU",
        "outputId": "952f3f36-47a3-4793-e172-0a7106b528e0"
      },
      "source": [
        "print(D)"
      ],
      "execution_count": 6,
      "outputs": [
        {
          "output_type": "stream",
          "text": [
            "[2. 3. 1.]\n"
          ],
          "name": "stdout"
        }
      ]
    },
    {
      "cell_type": "markdown",
      "metadata": {
        "id": "dRLMMop6azuU"
      },
      "source": [
        "# Simple linear regression"
      ]
    },
    {
      "cell_type": "code",
      "metadata": {
        "id": "nAARjzqrazuV"
      },
      "source": [
        "import pandas as pd\n",
        "from sklearn.linear_model import LinearRegression\n",
        "from sklearn.metrics import mean_squared_error as mse\n",
        "from sklearn.metrics import mean_absolute_error as mae\n",
        "from sklearn.model_selection import train_test_split\n",
        "import matplotlib.pyplot as plt\n",
        "import math"
      ],
      "execution_count": null,
      "outputs": []
    },
    {
      "cell_type": "code",
      "metadata": {
        "id": "Lu-5QUrdazuV"
      },
      "source": [
        "birthrate = pd.read_csv('Birthrate.csv')"
      ],
      "execution_count": null,
      "outputs": []
    },
    {
      "cell_type": "code",
      "metadata": {
        "id": "S79nkBtBazuV"
      },
      "source": [
        "#birthrate[['PovPct','Brth15to17']]"
      ],
      "execution_count": null,
      "outputs": []
    },
    {
      "cell_type": "code",
      "metadata": {
        "id": "SCJGPHyXazuW",
        "outputId": "1d0dc675-eb7a-46ce-db9e-6b2bc2489994"
      },
      "source": [
        "x=birthrate[['PovPct']].values.reshape(-1,1)\n",
        "print(len(x))\n",
        "x.shape"
      ],
      "execution_count": null,
      "outputs": [
        {
          "output_type": "stream",
          "text": [
            "51\n"
          ],
          "name": "stdout"
        },
        {
          "output_type": "execute_result",
          "data": {
            "text/plain": [
              "(51, 1)"
            ]
          },
          "metadata": {
            "tags": []
          },
          "execution_count": 85
        }
      ]
    },
    {
      "cell_type": "code",
      "metadata": {
        "id": "YOVsWadNazuW",
        "outputId": "0845b93b-098a-4e0b-cdfe-881e09d5c19f"
      },
      "source": [
        "y=birthrate[['Brth15to17']].values.reshape(-1,1)\n",
        "print(len(y))\n",
        "y.shape"
      ],
      "execution_count": null,
      "outputs": [
        {
          "output_type": "stream",
          "text": [
            "51\n"
          ],
          "name": "stdout"
        },
        {
          "output_type": "execute_result",
          "data": {
            "text/plain": [
              "(51, 1)"
            ]
          },
          "metadata": {
            "tags": []
          },
          "execution_count": 86
        }
      ]
    },
    {
      "cell_type": "code",
      "metadata": {
        "id": "-Wg4JxNOazuW"
      },
      "source": [
        "X_train, X_test, y_train, y_test = train_test_split(x,y,test_size=0.3,random_state=0)"
      ],
      "execution_count": null,
      "outputs": []
    },
    {
      "cell_type": "code",
      "metadata": {
        "id": "BdBrr-dyazuX"
      },
      "source": [
        "model=LinearRegression()"
      ],
      "execution_count": null,
      "outputs": []
    },
    {
      "cell_type": "code",
      "metadata": {
        "id": "ax-Ea-gUazuX",
        "outputId": "41483af7-39de-4c67-b293-cdc625fb6733"
      },
      "source": [
        "#one = x_train.reshape(-1,1)\n",
        "#two = y_train.reshape(-1,1)\n",
        "model.fit(X_train,y_train)"
      ],
      "execution_count": null,
      "outputs": [
        {
          "output_type": "execute_result",
          "data": {
            "text/plain": [
              "LinearRegression(copy_X=True, fit_intercept=True, n_jobs=None, normalize=False)"
            ]
          },
          "metadata": {
            "tags": []
          },
          "execution_count": 89
        }
      ]
    },
    {
      "cell_type": "code",
      "metadata": {
        "id": "Uj2qMcw-azuX",
        "outputId": "60399187-aa2d-4960-b376-db64523b88f6"
      },
      "source": [
        "coeff=model.coef_\n",
        "#print (type(coeff))\n",
        "print ('Coefficient of equation is ' + str(coeff))"
      ],
      "execution_count": null,
      "outputs": [
        {
          "output_type": "stream",
          "text": [
            "Coefficient of equation is [[1.42260139]]\n"
          ],
          "name": "stdout"
        }
      ]
    },
    {
      "cell_type": "code",
      "metadata": {
        "id": "Ke40OUZdazuX",
        "outputId": "dd857b08-e3bd-4234-8c74-623c8e5cdbae"
      },
      "source": [
        "intercept=model.intercept_\n",
        "print ('Intercept of the equation is ' + str(intercept))"
      ],
      "execution_count": null,
      "outputs": [
        {
          "output_type": "stream",
          "text": [
            "Intercept of the equation is [3.96224527]\n"
          ],
          "name": "stdout"
        }
      ]
    },
    {
      "cell_type": "code",
      "metadata": {
        "id": "zSc-0v1xazuY"
      },
      "source": [
        "y_predict=model.predict(X_test)\n",
        "df = pd.DataFrame({'Actual': y_test.flatten(), 'Predicted': y_predict.flatten()})"
      ],
      "execution_count": null,
      "outputs": []
    },
    {
      "cell_type": "code",
      "metadata": {
        "id": "ssYrbVISazuY",
        "outputId": "c9f8e532-fd9e-4f4a-e173-d79f5a57a0ac"
      },
      "source": [
        "#plt.scatter(X_train, y_train,  color='gray')\n",
        "plt.scatter(X_test, y_test,  color='blue')\n",
        "plt.plot(X_test, y_predict, color='red', linewidth=2)\n",
        "plt.show()"
      ],
      "execution_count": null,
      "outputs": [
        {
          "output_type": "display_data",
          "data": {
            "image/png": "[encoded data removed]",
            "text/plain": [
              "<Figure size 432x288 with 1 Axes>"
            ]
          },
          "metadata": {
            "tags": [],
            "needs_background": "light"
          }
        }
      ]
    },
    {
      "cell_type": "code",
      "metadata": {
        "id": "CiRXeyqQazuY",
        "outputId": "d6f38624-99ab-46da-f317-eb948a4ff2fb"
      },
      "source": [
        "print ('Absolute error is ' , mae(y_test,y_predict) )\n",
        "print ('Mean square error is ' , mse(y_test,y_predict))\n",
        "print ('Root Mean square error is ' , math.sqrt(mse(y_test,y_predict)))"
      ],
      "execution_count": null,
      "outputs": [
        {
          "output_type": "stream",
          "text": [
            "Absolute error is  6.097645894956829\n",
            "Mean square error is  48.70336236471592\n",
            "Root Mean square error is  6.9787794323016055\n"
          ],
          "name": "stdout"
        }
      ]
    },
    {
      "cell_type": "markdown",
      "metadata": {
        "id": "WbqAVSKlazuY"
      },
      "source": [
        "The result indicates that we should be able to predict the birthrate of women between ages 15 to 17 given the poverty rate of a particular state."
      ]
    },
    {
      "cell_type": "code",
      "metadata": {
        "id": "ll6UCXE1azuZ"
      },
      "source": [
        ""
      ],
      "execution_count": null,
      "outputs": []
    }
  ]
}